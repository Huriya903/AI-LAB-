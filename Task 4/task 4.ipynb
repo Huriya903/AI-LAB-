{
 "cells": [
  {
   "cell_type": "markdown",
   "id": "2998eaa5",
   "metadata": {},
   "source": [
    "Task 1"
   ]
  },
  {
   "cell_type": "code",
   "execution_count": 9,
   "id": "248650c1",
   "metadata": {},
   "outputs": [
    {
     "name": "stdout",
     "output_type": "stream",
     "text": [
      "True\n"
     ]
    }
   ],
   "source": [
    "def algorithm(card_number):\n",
    "    card_number = card_number[::-1]\n",
    "    total = 0\n",
    "    for i in range(len(card_number)):\n",
    "        digit = int(card_number[i])\n",
    "        if i % 2 == 1:\n",
    "            digit = digit * 2\n",
    "            if digit > 9:\n",
    "                digit = digit - 9\n",
    "        total += digit\n",
    "    return total % 10 == 0  \n",
    "\n",
    "card_number = \"4539578763621486\" \n",
    "print(algorithm(card_number))\n"
   ]
  },
  {
   "cell_type": "markdown",
   "id": "08120c07",
   "metadata": {},
   "source": [
    "Task 2"
   ]
  },
  {
   "cell_type": "code",
   "execution_count": 12,
   "id": "75318453",
   "metadata": {},
   "outputs": [
    {
     "name": "stdout",
     "output_type": "stream",
     "text": [
      "How are you \n"
     ]
    }
   ],
   "source": [
    "def remove(string):\n",
    "    new_string = ''\n",
    "    for char in string :\n",
    "        if char.isalnum() or char.isspace():\n",
    "            new_string += char\n",
    "    return new_string\n",
    "string = \"How, are! you ?\"\n",
    "print (remove(string))\n"
   ]
  },
  {
   "cell_type": "markdown",
   "id": "597813c8",
   "metadata": {},
   "source": [
    "Task 3"
   ]
  },
  {
   "cell_type": "code",
   "execution_count": 3,
   "id": "e35a6258",
   "metadata": {},
   "outputs": [
    {
     "name": "stdout",
     "output_type": "stream",
     "text": [
      "are HEllo how you\n"
     ]
    }
   ],
   "source": [
    "def sorting(sen):\n",
    "    words = sen.split()\n",
    "    n = len(words)\n",
    "    for i in range(n):\n",
    "        for j in range(0, n-i-1):\n",
    "            if words[j].lower() > words[j+1].lower():\n",
    "                words[j], words[j+1] = words[j+1], words[j]\n",
    "    return \" \".join(words)\n",
    "sen = \"HEllo how are you\"\n",
    "print(sorting(sen))\n"
   ]
  }
 ],
 "metadata": {
  "kernelspec": {
   "display_name": "Python 3",
   "language": "python",
   "name": "python3"
  },
  "language_info": {
   "codemirror_mode": {
    "name": "ipython",
    "version": 3
   },
   "file_extension": ".py",
   "mimetype": "text/x-python",
   "name": "python",
   "nbconvert_exporter": "python",
   "pygments_lexer": "ipython3",
   "version": "3.11.9"
  }
 },
 "nbformat": 4,
 "nbformat_minor": 5
}
