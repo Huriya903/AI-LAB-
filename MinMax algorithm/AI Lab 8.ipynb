{
 "cells": [
  {
   "cell_type": "code",
   "execution_count": 1,
   "id": "e4f3f840",
   "metadata": {},
   "outputs": [
    {
     "name": "stdout",
     "output_type": "stream",
     "text": [
      "Minmax Algorithm\n",
      "Max is exploring.\n",
      " Max's move 'A'.\n",
      "Min is thinking.\n",
      "Min's move 'A1' .\n",
      "Move 'A1 gives value '6'.\n",
      "Min's move 'A2' .\n",
      "Move 'A2 gives value '2'.\n",
      "Min chosses the value of '2'.\n",
      " Move 'A' gives value , inf\n",
      " Max's move 'C'.\n",
      "Min is thinking.\n",
      "Min's move 'C1' .\n",
      "Move 'C1 gives value '4'.\n",
      "Min's move 'C2' .\n",
      "Move 'C2 gives value '1'.\n",
      "Min chosses the value of '1'.\n",
      " Move 'C' gives value , inf\n",
      "Max chosses the best value : inf.\n",
      " Final Decision (Best for MAX): inf\n"
     ]
    }
   ],
   "source": [
    "graph={\"A\":{\"A1\": 6,  \"A2\" : 2},\n",
    "\"C\" : {\"C1\":4 ,\"C2\" :1}\n",
    "}\n",
    "def minmax ( node,max_turn ):\n",
    "    if isinstance (node,int):\n",
    "        return node\n",
    "    if max_turn:\n",
    "        print(f\"Max is exploring.\")\n",
    "        b= float(\"-inf\")\n",
    "        for move ,child in node.items ():\n",
    "            print (f\" Max's move '{move}'.\")\n",
    "            value = minmax(child ,False)\n",
    "            print (f\" Move '{move}' gives value , {value}\")\n",
    "            b = max (b,value)\n",
    "        print (f\"Max chosses the best value : {b}.\")\n",
    "        return b\n",
    "    else:\n",
    "        print (\"Min is thinking.\")\n",
    "        b = float (\"inf\")\n",
    "        for move , child in node.items ():\n",
    "            print (f\"Min's move '{move}' .\")\n",
    "            value = minmax (child,True)\n",
    "            print (f\"Move '{move} gives value '{value}'.\")\n",
    "            value = min (b , value)\n",
    "        \n",
    "        print (f\"Min chosses the value of '{value}'.\")\n",
    "        return b\n",
    "print (\"Minmax Algorithm\")\n",
    "final_value = minmax(graph, True)\n",
    "print(f\" Final Decision (Best for MAX): {final_value}\")"
   ]
  }
 ],
 "metadata": {
  "kernelspec": {
   "display_name": "Python 3",
   "language": "python",
   "name": "python3"
  },
  "language_info": {
   "codemirror_mode": {
    "name": "ipython",
    "version": 3
   },
   "file_extension": ".py",
   "mimetype": "text/x-python",
   "name": "python",
   "nbconvert_exporter": "python",
   "pygments_lexer": "ipython3",
   "version": "3.11.9"
  }
 },
 "nbformat": 4,
 "nbformat_minor": 5
}
