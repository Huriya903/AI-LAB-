{
 "cells": [
  {
   "cell_type": "code",
   "execution_count": 11,
   "metadata": {},
   "outputs": [
    {
     "name": "stdout",
     "output_type": "stream",
     "text": [
      "Path found: ['A', 'D']\n"
     ]
    },
    {
     "data": {
      "text/plain": [
       "['A', 'D']"
      ]
     },
     "execution_count": 11,
     "metadata": {},
     "output_type": "execute_result"
    }
   ],
   "source": [
    "from collections import deque \n",
    "class Graph: \n",
    "    def __init__(self, list,h_map): \n",
    "        self.list = list\n",
    "        self.h_map =h_map  \n",
    " \n",
    "    def neighbors(self, v): \n",
    "        return self.list.get(v,[]) \n",
    " \n",
    "    def h(self, n): \n",
    "        return self.h_map.get(n,0) \n",
    " \n",
    "    def star_alg (self, start_node, stop_node):\n",
    "        open_list = set([start_node]) \n",
    "        closed_list = set([]) \n",
    " \n",
    "        g = {start_node : 0} \n",
    "        p={start_node : None} \n",
    " \n",
    "        while len(open_list) > 0: \n",
    "            n = None \n",
    "            min_f = float ('inf')\n",
    "            #cost = {start_node : 0}\n",
    "\n",
    "            for v in open_list: \n",
    "                f_v = g.get(v, float('inf')) + self.h(v)\n",
    "                #f_v = cost .get (v ,float ('inf')) + self.h (v)\n",
    "                if f_v <min_f:\n",
    "                    n = v\n",
    "                    min_f = f_v\n",
    "\n",
    "                if n is None: \n",
    "                  print('Path does not exist!') \n",
    "                  return None \n",
    "\n",
    "            if n == stop_node: \n",
    "                path = [] \n",
    "                current = stop_node\n",
    "\n",
    "                while current is not None: \n",
    "                    path.append(current) \n",
    "                    current = p.get(current) \n",
    "                \n",
    "                path.reverse()  \n",
    "                print(f'Path found: {path}') \n",
    "                return path \n",
    "  \n",
    "            for (m, weight) in self.neighbors(n):\n",
    "                new_cost =g [n] +weight\n",
    "                \n",
    "                if m not in g or new_cost < g[m]: \n",
    "                    g[m] = new_cost \n",
    "                    p[m] = n \n",
    "                    if m  not in open_list:\n",
    "                        open_list.add (m)\n",
    " \n",
    "            open_list.remove(n) \n",
    "            closed_list.add(n) \n",
    "        print('Path does not exist!') \n",
    "        return None \n",
    " \n",
    "list = { \n",
    "    'A': [('B', 5), ('C', 3), ('D', 11)], \n",
    "    'B': [('D', 7)], \n",
    "    'C': [('D', 20)],\n",
    "    'D' :[]\n",
    "} \n",
    "h_map ={\n",
    "    'A' :8,\n",
    "    'B' : 6,\n",
    "    'C' : 9,\n",
    "    'D' : 2\n",
    "}\n",
    "graph1 = Graph(list,h_map) \n",
    "graph1.star_alg('A', 'D') "
   ]
  }
 ],
 "metadata": {
  "kernelspec": {
   "display_name": "Python 3",
   "language": "python",
   "name": "python3"
  },
  "language_info": {
   "codemirror_mode": {
    "name": "ipython",
    "version": 3
   },
   "file_extension": ".py",
   "mimetype": "text/x-python",
   "name": "python",
   "nbconvert_exporter": "python",
   "pygments_lexer": "ipython3",
   "version": "3.11.9"
  }
 },
 "nbformat": 4,
 "nbformat_minor": 5
}
