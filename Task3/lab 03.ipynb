{
 "cells": [
  {
   "cell_type": "markdown",
   "id": "d91f60cf",
   "metadata": {},
   "source": [
    "                            Smart home temperature control\n",
    "Each room in the house has seperate thermostat for controlling heating system. The goal is to maintain 22 C in each room."
   ]
  },
  {
   "cell_type": "code",
   "execution_count": 12,
   "id": "f769ccea",
   "metadata": {},
   "outputs": [
    {
     "name": "stdout",
     "output_type": "stream",
     "text": [
      "The controlled temperatue of Living room is 18.\n",
      "The controlled temperatue of Bed Room is 25.\n",
      "The controlled temperatue of Guest Room is 27.\n",
      "Turn off the AC\n",
      "22 25\n"
     ]
    }
   ],
   "source": [
    "class SimpleReflexagent:\n",
    "    def __init__(self, tem):\n",
    "        self.fixed_tem = tem\n",
    "\n",
    "    def sensor(self, temp):\n",
    "        self.current_temp = temp    \n",
    "    \n",
    "    def performance(self):\n",
    "        action = None\n",
    "        if self.current_temp < self.fixed_tem:\n",
    "            action = \"Turn on the AC\"\n",
    "            return action\n",
    "        elif self.current_temp > self.fixed_tem:\n",
    "            action = \"Turn off the AC\"\n",
    "            return action\n",
    "        \n",
    "    def actuator(self):\n",
    "        action = self.performance()\n",
    "        print(action)\n",
    "rooms ={\"Living room\":18,\n",
    "        \"Bed Room\":25,\n",
    "        \"Guest Room\":27\n",
    "}\n",
    "for i in range(len(rooms)):\n",
    "    print(f\"The controlled temperatue of {list(rooms.keys())[i]} is {list(rooms.values())[i]}.\")\n",
    "agent = SimpleReflexagent(22)\n",
    "agent.sensor(25)\n",
    "agent.actuator()\n",
    "print(agent.fixed_tem, agent.current_temp)"
   ]
  }
 ],
 "metadata": {
  "kernelspec": {
   "display_name": "base",
   "language": "python",
   "name": "python3"
  },
  "language_info": {
   "codemirror_mode": {
    "name": "ipython",
    "version": 3
   },
   "file_extension": ".py",
   "mimetype": "text/x-python",
   "name": "python",
   "nbconvert_exporter": "python",
   "pygments_lexer": "ipython3",
   "version": "3.12.7"
  }
 },
 "nbformat": 4,
 "nbformat_minor": 5
}
