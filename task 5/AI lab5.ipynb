{
 "cells": [
  {
   "cell_type": "code",
   "execution_count": 14,
   "id": "aeb98aea",
   "metadata": {},
   "outputs": [
    {
     "name": "stdout",
     "output_type": "stream",
     "text": [
      "['A', 'C', 'F', 'E', 'B', 'D']\n"
     ]
    }
   ],
   "source": [
    "graph ={\n",
    "    'A':['B','C'],\n",
    "    'B': ['A','D' ,'E'],\n",
    "    'C': ['A','F'],\n",
    "    'D':['B'],\n",
    "    'E':['B','F'],\n",
    "    'F': ['C','E'] \n",
    "}\n",
    "def dfs_stack(graph, start):\n",
    "    visited = []\n",
    "    stack = [start]\n",
    "    while stack:\n",
    "        neighbour = stack.pop()\n",
    "        if neighbour not in visited:\n",
    "            visited.append(neighbour)\n",
    "            stack.extend((graph[neighbour]))\n",
    "    return visited\n",
    "\n",
    "print(dfs_stack(graph,'A'))"
   ]
  }
 ],
 "metadata": {
  "kernelspec": {
   "display_name": "Python 3",
   "language": "python",
   "name": "python3"
  },
  "language_info": {
   "codemirror_mode": {
    "name": "ipython",
    "version": 3
   },
   "file_extension": ".py",
   "mimetype": "text/x-python",
   "name": "python",
   "nbconvert_exporter": "python",
   "pygments_lexer": "ipython3",
   "version": "3.11.9"
  }
 },
 "nbformat": 4,
 "nbformat_minor": 5
}
